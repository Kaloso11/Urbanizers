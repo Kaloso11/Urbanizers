{
 "cells": [
  {
   "cell_type": "code",
   "execution_count": null,
   "id": "384d0c93-d832-4ea0-958c-bcfcca427975",
   "metadata": {},
   "outputs": [],
   "source": [
    "from deepforest import main\n",
    "from deepforest import get_data\n",
    "import matplotlib.pyplot as plt\n",
    "import rasterio\n",
    "\n",
    "model = main.deepforest()\n",
    "model.use_release()\n",
    "\n",
    "sample_image_path = get_data(\"OSBS_029.png\")\n",
    "img = model.predict_image(path=sample_image_path, return_plot=True)\n",
    "\n",
    "#predict_image returns plot in BlueGreenRed (opencv style), but matplotlib likes RedGreenBlue, switch the channel order. Many functions in deepforest will automatically perform this flip for you and give a warning.\n",
    "plt.imshow(img[:,:,::-1])"
   ]
  },
  {
   "cell_type": "code",
   "execution_count": null,
   "id": "24fc28c6-d2a0-4bbb-981d-a821fadfee6d",
   "metadata": {
    "scrolled": true
   },
   "outputs": [],
   "source": [
    "print(model)\n"
   ]
  },
  {
   "cell_type": "code",
   "execution_count": null,
   "id": "425e73f9-08d5-4327-a0b1-4ca9ad2f164f",
   "metadata": {},
   "outputs": [],
   "source": [
    "%matplotlib inline"
   ]
  },
  {
   "cell_type": "code",
   "execution_count": null,
   "id": "1f8c2d85-afa6-4cbc-962d-ac34d78d3621",
   "metadata": {},
   "outputs": [],
   "source": [
    "import rasterio\n",
    "\n",
    "raster_path = \"3318DC_16_2016_1143_RGB_RECT.tif\"\n",
    "\n",
    "try:\n",
    "    with rasterio.open(raster_path) as dataset:\n",
    "        print(\"Raster opened successfully!\")\n",
    "        print(\"Raster shape:\", dataset.shape)\n",
    "except Exception as e:\n",
    "    print(\"Error opening raster:\", str(e))\n"
   ]
  },
  {
   "cell_type": "code",
   "execution_count": null,
   "id": "2136f245-e14f-4200-9881-ac1ce16197e5",
   "metadata": {
    "scrolled": true
   },
   "outputs": [],
   "source": [
    "import rasterio\n",
    "import numpy as np\n",
    "import matplotlib.pyplot as plt\n",
    "\n",
    "# Load the TIFF image\n",
    "with rasterio.open(raster_path) as tif:\n",
    "    img = tif.read([1, 2, 3])  # Reading the first three bands (RGB)\n",
    "    img = np.moveaxis(img, 0, -1)  # Reorder dimensions from (bands, height, width) to (height, width, bands)\n",
    "\n",
    "# Convert image to uint8 if necessary\n",
    "if img.dtype != np.uint8:\n",
    "    img = (255 * (img - img.min()) / (img.max() - img.min())).astype(np.uint8)\n",
    "\n",
    "# Show the image\n",
    "plt.figure(figsize=(10, 10))\n",
    "plt.imshow(img[:6000, :6000])\n",
    "plt.xticks([]), plt.yticks([])  # Hide tick values on X and Y axis\n",
    "plt.show()"
   ]
  },
  {
   "cell_type": "code",
   "execution_count": null,
   "id": "68622dde-28ef-4cd8-821a-5e0108cf6e3f",
   "metadata": {
    "scrolled": true
   },
   "outputs": [],
   "source": [
    "from deepforest import get_data\n",
    "\n",
    "test_raster_path = \"3318DC_16_2016_1143_RGB_RECT.tif\"  # Built-in test image\n",
    "predicted_raster = model.predict_tile(test_raster_path, patch_size=400, patch_overlap=0.1)\n",
    "\n",
    "# print(\"Prediction successful:\", type(predicted_raster))\n"
   ]
  },
  {
   "cell_type": "code",
   "execution_count": null,
   "id": "60ef57db-a9ec-4d12-aa8f-178840b36442",
   "metadata": {},
   "outputs": [],
   "source": [
    "predicted_raster"
   ]
  },
  {
   "cell_type": "code",
   "execution_count": null,
   "id": "d2b7cb8d-5ed7-46ad-823f-f913d1b0bc35",
   "metadata": {},
   "outputs": [],
   "source": [
    "img = rasterio.open(\"3318DC_16_2016_1143_RGB_RECT.tif\")\n"
   ]
  },
  {
   "cell_type": "code",
   "execution_count": null,
   "id": "a2acb228-c0d6-4192-b817-656a3dd0d5ba",
   "metadata": {},
   "outputs": [],
   "source": [
    "img.transform"
   ]
  },
  {
   "cell_type": "code",
   "execution_count": null,
   "id": "59b8e069-3eff-4410-bf59-fb6bb66b5c00",
   "metadata": {},
   "outputs": [],
   "source": [
    "img.crs"
   ]
  },
  {
   "cell_type": "code",
   "execution_count": null,
   "id": "cd4381a7-ff2b-469c-8c15-2fc8323cccc0",
   "metadata": {},
   "outputs": [],
   "source": [
    "gdf = utilities.annotations_to_shapefile(predicted_raster, transform=img.transform, crs=img.crs)"
   ]
  },
  {
   "cell_type": "code",
   "execution_count": null,
   "id": "803575ef-bbc8-49b7-85d2-5a13a2b6fcc9",
   "metadata": {},
   "outputs": [],
   "source": [
    "gdf.to_file('preds.geojson',driver='GeoJSON')"
   ]
  },
  {
   "cell_type": "code",
   "execution_count": null,
   "id": "acb4cf74-d76a-4628-baee-a657903aa8a9",
   "metadata": {},
   "outputs": [],
   "source": [
    "predicted_raster['score'].describe()"
   ]
  },
  {
   "cell_type": "code",
   "execution_count": null,
   "id": "38ec5add-89c4-4a96-8ca7-0560caaf171c",
   "metadata": {},
   "outputs": [],
   "source": [
    "predicted_raster[predicted_raster['score']>=0.5]"
   ]
  },
  {
   "cell_type": "code",
   "execution_count": null,
   "id": "651d5f6d-c911-41e7-9c61-65d2d6c21ff2",
   "metadata": {},
   "outputs": [],
   "source": [
    "plt.figure(figsize=(10,10))\n",
    "plt.imshow(predicted_raster)\n",
    "plt.show()"
   ]
  },
  {
   "cell_type": "code",
   "execution_count": null,
   "id": "f428f5d1-0676-4f3e-9129-15f8da3730cf",
   "metadata": {},
   "outputs": [],
   "source": [
    "predicted_raster.label.unique()"
   ]
  },
  {
   "cell_type": "code",
   "execution_count": null,
   "id": "d9713e01-a2fd-45e1-b211-a3065c813bc0",
   "metadata": {},
   "outputs": [],
   "source": [
    "import rasterio\n",
    "from deepforest import get_data\n",
    "\n",
    "# test_raster_path = get_data(\"OSBS_029.tif\")  # Built-in test image\n",
    "custom_raster_path = \"3318DC_16_2016_1143_RGB_RECT.tif\"\n",
    "\n",
    "def print_raster_info(raster_path):\n",
    "    with rasterio.open(raster_path) as dataset:\n",
    "        print(\"\\nFile:\", raster_path)\n",
    "        print(\"Driver:\", dataset.driver)\n",
    "        print(\"CRS:\", dataset.crs)\n",
    "        print(\"Width, Height:\", dataset.width, dataset.height)\n",
    "        print(\"Bands:\", dataset.count)\n",
    "        print(\"Dtype:\", dataset.dtypes)\n",
    "        print(\"Transform:\", dataset.transform)\n",
    "\n",
    "# print_raster_info(test_raster_path)  # Check DeepForest's test raster\n",
    "print_raster_info(custom_raster_path)  # Check your raster\n"
   ]
  },
  {
   "cell_type": "code",
   "execution_count": null,
   "id": "9baef1b0-48e3-47ef-881b-3f003b690530",
   "metadata": {},
   "outputs": [],
   "source": [
    "# import os\n",
    "\n",
    "# csv_file = get_data(\"testfile_deepforest.csv\")\n",
    "# boxes = model.predict_file(csv_file=csv_file, root_dir = os.path.dirname(csv_file),savedir=\".\")"
   ]
  },
  {
   "cell_type": "code",
   "execution_count": null,
   "id": "d3cd77fe-3224-4d58-b3f4-ab05fa1b85d4",
   "metadata": {},
   "outputs": [],
   "source": [
    "img = \"3318DC_16_2016_1143_RGB_RECT.tif\"\n",
    "r = rasterio.open(img)\n",
    "transform = r.transform \n",
    "crs = r.crs\n",
    "print(crs)"
   ]
  },
  {
   "cell_type": "code",
   "execution_count": null,
   "id": "97b93579-6317-4e0f-8c56-b54dee2c343c",
   "metadata": {},
   "outputs": [],
   "source": [
    "from pyproj import CRS\n",
    "\n",
    "CRS.from_epsg(32617)"
   ]
  },
  {
   "cell_type": "code",
   "execution_count": null,
   "id": "0024a476-99fd-49a2-bf1a-e7f1429a3456",
   "metadata": {},
   "outputs": [],
   "source": [
    "from deepforest import utilities\n",
    "\n",
    "m = main.deepforest()\n",
    "m.use_release(check_release=False)\n",
    "df = m.predict_image(path=img)\n",
    "gdf = utilities.annotations_to_shapefile(df, transform=transform, crs=crs)\n"
   ]
  },
  {
   "cell_type": "code",
   "execution_count": null,
   "id": "834c37a0-7ae5-4a98-b608-3034cba92448",
   "metadata": {},
   "outputs": [],
   "source": [
    "gdf"
   ]
  },
  {
   "cell_type": "code",
   "execution_count": null,
   "id": "3d56dbac-31fe-4785-a7ca-78cb4c00e24a",
   "metadata": {},
   "outputs": [],
   "source": [
    "gdf.total_bounds"
   ]
  },
  {
   "cell_type": "code",
   "execution_count": null,
   "id": "1e843e6d-4153-497b-85b3-b9ccfed5de8a",
   "metadata": {},
   "outputs": [],
   "source": [
    "gdf.crs"
   ]
  },
  {
   "cell_type": "code",
   "execution_count": null,
   "id": "ee77d63a-712b-493b-b878-d11df9c3daad",
   "metadata": {},
   "outputs": [],
   "source": [
    "image_path = get_data(\"OSBS_029.png\")\n",
    "boxes = model.predict_image(path=image_path, return_plot = True, color=(0, 165, 255), thickness=3)"
   ]
  },
  {
   "cell_type": "code",
   "execution_count": null,
   "id": "0179c52c-1caa-4ab2-b023-c03502811902",
   "metadata": {},
   "outputs": [],
   "source": [
    "!pip install ipywidgets"
   ]
  }
 ],
 "metadata": {
  "kernelspec": {
   "display_name": "Python 3 (ipykernel)",
   "language": "python",
   "name": "python3"
  },
  "language_info": {
   "codemirror_mode": {
    "name": "ipython",
    "version": 3
   },
   "file_extension": ".py",
   "mimetype": "text/x-python",
   "name": "python",
   "nbconvert_exporter": "python",
   "pygments_lexer": "ipython3",
   "version": "3.12.9"
  }
 },
 "nbformat": 4,
 "nbformat_minor": 5
}
