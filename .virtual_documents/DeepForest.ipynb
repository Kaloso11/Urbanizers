from deepforest import main
from deepforest import get_data
import matplotlib.pyplot as plt

model = main.deepforest()
model.use_release()

sample_image_path = get_data("OSBS_029.png")
img = model.predict_image(path=sample_image_path, return_plot=True)

#predict_image returns plot in BlueGreenRed (opencv style), but matplotlib likes RedGreenBlue, switch the channel order. Many functions in deepforest will automatically perform this flip for you and give a warning.
plt.imshow(img[:,:,::-1])


print(model)






import rasterio

raster_path = "3318DC_16_2016_1143_RGB_RECT.tif"

try:
    with rasterio.open(raster_path) as dataset:
        print("Raster opened successfully!")
        print("Raster shape:", dataset.shape)
except Exception as e:
    print("Error opening raster:", str(e))



from deepforest import get_data

test_raster_path = "3318DC_16_2016_1143_RGB_RECT.tif"  # Built-in test image
predicted_raster = model.predict_tile(test_raster_path, return_plot=False, patch_size=800, patch_overlap=0.1)

print("Prediction successful:", type(predicted_raster))



ls


import rasterio
from deepforest import get_data

test_raster_path = get_data("OSBS_029.tif")  # Built-in test image
custom_raster_path = "/opt/anaconda3/lib/python3.12/site-packages/deepforest/data/3318DD_03_2016_1143_RGB_RECT.tif"

def print_raster_info(raster_path):
    with rasterio.open(raster_path) as dataset:
        print("\nFile:", raster_path)
        print("Driver:", dataset.driver)
        print("CRS:", dataset.crs)
        print("Width, Height:", dataset.width, dataset.height)
        print("Bands:", dataset.count)
        print("Dtype:", dataset.dtypes)
        print("Transform:", dataset.transform)

print_raster_info(test_raster_path)  # Check DeepForest's test raster
print_raster_info(custom_raster_path)  # Check your raster



from deepforest import get_data

test_raster_path = get_data("3318DC_16_2016_1143_RGB_RECT.tif")  # Built-in test image
predicted_raster = model.predict_tile(test_raster_path, return_plot=False, patch_size=300, patch_overlap=0.25)

print("Prediction successful:", type(predicted_raster))






raster_path = get_data("3318DD_03_2016_1143_RGB_RECT.tif")
# Window size of 300px with an overlap of 25% among windows for this small tile.
predicted_raster = model.predict_tile(raster_path, return_plot = True, patch_size=300,patch_overlap=0.25)

# View boxes overlayed when return_plot=True, when False, boxes are returned.
plt.imshow(predicted_raster)
plt.show()


image_path, xmin, ymin, xmax, ymax, label


import os

csv_file = get_data("testfile_deepforest.csv")
boxes = model.predict_file(csv_file=csv_file, root_dir = os.path.dirname(csv_file),savedir=".")


img = get_data("OSBS_029.tif")
r = rasterio.open(img)
transform = r.transform 
crs = r.crs
print(crs)


m = main.deepforest()
m.use_release(check_release=False)
df = m.predict_image(path=img)
gdf = utilities.annotations_to_shapefile(df, transform=transform, crs=crs)



gdf.total_bounds
array([ 404211.95, 3285102.85,  404251.95, 3285142.85])
gdf.crs
<Projected CRS: EPSG:32617>
Name: WGS 84 / UTM zone 17N
Axis Info [cartesian]:
- [east]: Easting (metre)
- [north]: Northing (metre)
Area of Use:
- undefined
Coordinate Operation:
- name: UTM zone 17N
- method: Transverse Mercator
Datum: World Geodetic System 1984
- Ellipsoid: WGS 84
- Prime Meridian: Greenwich


image_path = get_data("OSBS_029.png")
boxes = model.predict_image(path=image_path, return_plot = True, color=(0, 165, 255), thickness=3)


!pip install ipywidgets
